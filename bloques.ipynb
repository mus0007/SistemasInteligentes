{
 "cells": [
  {
   "cell_type": "code",
   "execution_count": 141,
   "metadata": {},
   "outputs": [],
   "source": [
    "class EstadoBloques:\n",
    "    def __init__(self, p=[], m=['a','b'], l=['b','c'], s=[['a','c']]):\n",
    "        \n",
    "        self.pinza = p\n",
    "        self.mesa = m\n",
    "        self.libre = l\n",
    "        self.sobre = s\n",
    "\n",
    "    def __str__(self):\n",
    "        r = 'Pinza: {}\\nEn mesa: {}\\nLibres: {}\\nSobre: {}\\n'.format(self.pinza,\n",
    "                [mesa for mesa in self.mesa],\n",
    "                [libre for libre in self.libre],\n",
    "                [sobre for sobre in self.sobre])\n",
    "        \n",
    "        return r\n",
    "    \n",
    "    def __eq__(self,other):\n",
    "        return self.__str__() == other.__str__()\n",
    "    \n",
    "    def __hash__(self):\n",
    "        return hash(self.__str__())\n",
    "    \n",
    "    def is_final(self):\n",
    "        return self.pinza == [] and self.mesa == ['c'] and ['c','b'] in self.sobre and ['b','a'] in self.sobre and self.libre == ['a']\n",
    "    \n",
    "    def coger1(self,x):\n",
    "        \n",
    "        r = False\n",
    "        \n",
    "        if self.pinza == [] and x in self.libre and x not in self.mesa:\n",
    "            for s in self.sobre:\n",
    "                if s[1] == x:\n",
    "                    y,x = s\n",
    "                    del self.libre[self.libre.index(x)]\n",
    "                    del self.sobre[self.sobre.index(s)]\n",
    "                    self.pinza.append(x)\n",
    "                    self.libre.append(y)\n",
    "                    r=True\n",
    "                    \n",
    "        return r\n",
    "                    \n",
    "                    \n",
    "    def coger2(self,x):\n",
    "        r = False\n",
    "        if self.pinza == [] and x in self.libre and x in self.mesa:\n",
    "            del self.libre[self.libre.index(x)]\n",
    "            del self.mesa[self.mesa.index(x)]\n",
    "            self.pinza.append(x)\n",
    "            r = True\n",
    "        return r\n",
    "    \n",
    "    def desapilar(self,x):\n",
    "        r = False\n",
    "        if x in self.pinza:\n",
    "            del self.pinza[self.pinza.index(x)]\n",
    "            self.mesa.append(x)\n",
    "            self.libre.append(x)\n",
    "            r = True\n",
    "        return r\n",
    "    \n",
    "    def apilar(self,x,y):\n",
    "        r=False\n",
    "        if x in self.pinza and y in self.libre:\n",
    "            del self.pinza[self.pinza.index(x)]\n",
    "            del self.libre[self.libre.index(y)]\n",
    "            self.libre.append(x)\n",
    "            self.sobre.append([y,x])\n",
    "            r=True\n",
    "        return r\n"
   ]
  },
  {
   "cell_type": "code",
   "execution_count": 138,
   "metadata": {},
   "outputs": [],
   "source": [
    "class Nodo:\n",
    "    \n",
    "    def __init__(self,estado,padre):\n",
    "        self.estado = estado\n",
    "        self.padre = padre\n",
    "        \n",
    "    # el estado es un estado\n",
    "    def getEstado(self):\n",
    "        return self.estado\n",
    "    \n",
    "    # el padre es un nodo\n",
    "    def getPadre(self):\n",
    "        return self.padre\n",
    "    \n",
    "    def getCamino(self):\n",
    "        camino = []\n",
    "        p = self\n",
    "        \n",
    "        while p:\n",
    "            camino.append(p.getEstado())\n",
    "            p = p.getPadre()\n",
    "            \n",
    "        return list(reversed(camino))\n",
    "    \n",
    "    def __str__(self):\n",
    "        return self.estado.__str__()# + 'Padre: ' + self.getPadre().estado.__str__()\n",
    "        "
   ]
  },
  {
   "cell_type": "code",
   "execution_count": 142,
   "metadata": {},
   "outputs": [],
   "source": [
    "cajas = ['a','b','c']\n",
    "\n",
    "def sucesores(nodo):\n",
    "    # estadoViejo = EstadoBloques(estado.pinza, estado.mesa, estado.libre, estado.sobre) \n",
    "    \n",
    "    estado = nodo.getEstado()\n",
    "    \n",
    "    pinzacopy = estado.pinza[:]\n",
    "    mesacopy = estado.mesa[:]\n",
    "    librecopy = estado.libre[:]\n",
    "    sobrecopy = estado.sobre[:]\n",
    "    \n",
    "    estadoModificar = EstadoBloques(pinzacopy, mesacopy, librecopy, sobrecopy)\n",
    "    \n",
    "    listaSucc = []\n",
    "    \n",
    "    if pinzacopy:\n",
    "        p = pinzacopy[0]\n",
    "        for x in librecopy:\n",
    "            boo = estadoModificar.apilar(p,x)\n",
    "            if boo:\n",
    "                listaSucc.append(Nodo(estadoModificar,nodo))\n",
    "                estadoModificar = EstadoBloques(pinzacopy, mesacopy, librecopy, sobrecopy)\n",
    "        estadoModificar.desapilar(p)\n",
    "        listaSucc.append(Nodo(estadoModificar,nodo))\n",
    "        estadoModificar = EstadoBloques(pinzacopy, mesacopy, librecopy, sobrecopy)\n",
    "    else:\n",
    "        for x in librecopy:\n",
    "            if x in mesacopy:\n",
    "                estadoModificar.coger2(x)\n",
    "                listaSucc.append(Nodo(estadoModificar,nodo))\n",
    "                estadoModificar = EstadoBloques(pinzacopy, mesacopy, librecopy, sobrecopy)\n",
    "            else:\n",
    "                estadoModificar.coger1(x)\n",
    "                listaSucc.append(Nodo(estadoModificar,nodo))\n",
    "                estadoModificar = EstadoBloques(pinzacopy, mesacopy, librecopy, sobrecopy)\n",
    "                \n",
    "    return listaSucc\n",
    "    "
   ]
  },
  {
   "cell_type": "code",
   "execution_count": null,
   "metadata": {},
   "outputs": [],
   "source": []
  },
  {
   "cell_type": "code",
   "execution_count": 126,
   "metadata": {},
   "outputs": [],
   "source": [
    "def primero_profundidad(inicial):\n",
    "    \n",
    "    while True:\n",
    "        if inicial==[]:\n",
    "            return None\n",
    "\n",
    "        actual = inicial[0]\n",
    "\n",
    "        if actual.getEstado().is_final():\n",
    "            return inicial\n",
    "\n",
    "        succ=sucesores(actual)\n",
    "        inicial = succ+inicial[1:]\n",
    "\n",
    "    # succ = sucesores(nodos[0])\n",
    "\n",
    "    # nodos = succ + nodos[1:]\n",
    "    \n",
    "    "
   ]
  },
  {
   "cell_type": "code",
   "execution_count": 62,
   "metadata": {},
   "outputs": [
    {
     "name": "stdout",
     "output_type": "stream",
     "text": [
      "Pinza: []\n",
      "En mesa: ['a', 'b']\n",
      "Libres: ['b', 'c']\n",
      "Sobre: [['a', 'c']]\n",
      "\n"
     ]
    }
   ],
   "source": [
    "prueba = EstadoBloques()\n",
    "print(prueba)"
   ]
  },
  {
   "cell_type": "code",
   "execution_count": 63,
   "metadata": {},
   "outputs": [
    {
     "data": {
      "text/plain": [
       "False"
      ]
     },
     "execution_count": 63,
     "metadata": {},
     "output_type": "execute_result"
    }
   ],
   "source": [
    "prueba.apilar('a','b')"
   ]
  },
  {
   "cell_type": "code",
   "execution_count": 64,
   "metadata": {},
   "outputs": [
    {
     "data": {
      "text/plain": [
       "True"
      ]
     },
     "execution_count": 64,
     "metadata": {},
     "output_type": "execute_result"
    }
   ],
   "source": [
    "prueba.coger1('c')"
   ]
  },
  {
   "cell_type": "code",
   "execution_count": 65,
   "metadata": {},
   "outputs": [
    {
     "name": "stdout",
     "output_type": "stream",
     "text": [
      "[]\n"
     ]
    }
   ],
   "source": [
    "print(prueba.sobre)"
   ]
  },
  {
   "cell_type": "code",
   "execution_count": 66,
   "metadata": {},
   "outputs": [
    {
     "name": "stdout",
     "output_type": "stream",
     "text": [
      "Pinza: ['c']\n",
      "En mesa: ['a', 'b']\n",
      "Libres: ['b', 'a']\n",
      "Sobre: []\n",
      "\n"
     ]
    }
   ],
   "source": [
    "print(prueba)"
   ]
  },
  {
   "cell_type": "code",
   "execution_count": 67,
   "metadata": {},
   "outputs": [
    {
     "data": {
      "text/plain": [
       "True"
      ]
     },
     "execution_count": 67,
     "metadata": {},
     "output_type": "execute_result"
    }
   ],
   "source": [
    "prueba.desapilar('c')"
   ]
  },
  {
   "cell_type": "code",
   "execution_count": 68,
   "metadata": {},
   "outputs": [
    {
     "name": "stdout",
     "output_type": "stream",
     "text": [
      "Pinza: []\n",
      "En mesa: ['a', 'b', 'c']\n",
      "Libres: ['b', 'a', 'c']\n",
      "Sobre: []\n",
      "\n"
     ]
    }
   ],
   "source": [
    "print(prueba)"
   ]
  },
  {
   "cell_type": "code",
   "execution_count": 69,
   "metadata": {},
   "outputs": [
    {
     "data": {
      "text/plain": [
       "True"
      ]
     },
     "execution_count": 69,
     "metadata": {},
     "output_type": "execute_result"
    }
   ],
   "source": [
    "prueba.coger2('b')"
   ]
  },
  {
   "cell_type": "code",
   "execution_count": 70,
   "metadata": {},
   "outputs": [
    {
     "data": {
      "text/plain": [
       "True"
      ]
     },
     "execution_count": 70,
     "metadata": {},
     "output_type": "execute_result"
    }
   ],
   "source": [
    "prueba.apilar('b','c')"
   ]
  },
  {
   "cell_type": "code",
   "execution_count": 71,
   "metadata": {},
   "outputs": [
    {
     "name": "stdout",
     "output_type": "stream",
     "text": [
      "Pinza: []\n",
      "En mesa: ['a', 'c']\n",
      "Libres: ['a', 'b']\n",
      "Sobre: [['c', 'b']]\n",
      "\n"
     ]
    }
   ],
   "source": [
    "print(prueba)"
   ]
  },
  {
   "cell_type": "code",
   "execution_count": 72,
   "metadata": {},
   "outputs": [
    {
     "data": {
      "text/plain": [
       "False"
      ]
     },
     "execution_count": 72,
     "metadata": {},
     "output_type": "execute_result"
    }
   ],
   "source": [
    "prueba.is_final()"
   ]
  },
  {
   "cell_type": "code",
   "execution_count": 73,
   "metadata": {},
   "outputs": [
    {
     "data": {
      "text/plain": [
       "True"
      ]
     },
     "execution_count": 73,
     "metadata": {},
     "output_type": "execute_result"
    }
   ],
   "source": [
    "prueba.coger2('a')\n",
    "prueba.apilar('a','b')"
   ]
  },
  {
   "cell_type": "code",
   "execution_count": 74,
   "metadata": {},
   "outputs": [
    {
     "name": "stdout",
     "output_type": "stream",
     "text": [
      "Pinza: []\n",
      "En mesa: ['c']\n",
      "Libres: ['a']\n",
      "Sobre: [['c', 'b'], ['b', 'a']]\n",
      "\n"
     ]
    }
   ],
   "source": [
    "print(prueba)"
   ]
  },
  {
   "cell_type": "code",
   "execution_count": 75,
   "metadata": {},
   "outputs": [
    {
     "data": {
      "text/plain": [
       "True"
      ]
     },
     "execution_count": 75,
     "metadata": {},
     "output_type": "execute_result"
    }
   ],
   "source": [
    "prueba.is_final()"
   ]
  },
  {
   "cell_type": "code",
   "execution_count": 76,
   "metadata": {},
   "outputs": [],
   "source": [
    "pru2 = EstadoBloques()"
   ]
  },
  {
   "cell_type": "code",
   "execution_count": 81,
   "metadata": {},
   "outputs": [
    {
     "name": "stdout",
     "output_type": "stream",
     "text": [
      "Pinza: []\n",
      "En mesa: ['c']\n",
      "Libres: ['a']\n",
      "Sobre: [['c', 'b'], ['b', 'a']]\n",
      "\n"
     ]
    }
   ],
   "source": [
    "print(pru2)"
   ]
  },
  {
   "cell_type": "code",
   "execution_count": 143,
   "metadata": {},
   "outputs": [],
   "source": [
    "nodo = Nodo(pru2,None)\n",
    "\n",
    "lista = sucesores(nodo)"
   ]
  },
  {
   "cell_type": "code",
   "execution_count": 144,
   "metadata": {},
   "outputs": [
    {
     "name": "stdout",
     "output_type": "stream",
     "text": [
      "Pinza: ['a']\n",
      "En mesa: ['c']\n",
      "Libres: ['b']\n",
      "Sobre: [['c', 'b']]\n",
      "\n"
     ]
    }
   ],
   "source": [
    "for j in lista:\n",
    "    print(j)"
   ]
  },
  {
   "cell_type": "code",
   "execution_count": 80,
   "metadata": {},
   "outputs": [
    {
     "data": {
      "text/plain": [
       "[<__main__.Nodo at 0x7f6974337358>]"
      ]
     },
     "execution_count": 80,
     "metadata": {},
     "output_type": "execute_result"
    }
   ],
   "source": [
    "sucesores(nodo)"
   ]
  },
  {
   "cell_type": "code",
   "execution_count": 85,
   "metadata": {},
   "outputs": [
    {
     "data": {
      "text/plain": [
       "False"
      ]
     },
     "execution_count": 85,
     "metadata": {},
     "output_type": "execute_result"
    }
   ],
   "source": [
    "prueba is pru2"
   ]
  },
  {
   "cell_type": "code",
   "execution_count": 86,
   "metadata": {},
   "outputs": [
    {
     "data": {
      "text/plain": [
       "True"
      ]
     },
     "execution_count": 86,
     "metadata": {},
     "output_type": "execute_result"
    }
   ],
   "source": [
    "prueba == pru2"
   ]
  },
  {
   "cell_type": "code",
   "execution_count": 93,
   "metadata": {},
   "outputs": [],
   "source": [
    "pru3 = EstadoBloques([], ['a','b'], ['b','c'], [['a','c']])"
   ]
  },
  {
   "cell_type": "code",
   "execution_count": 94,
   "metadata": {},
   "outputs": [
    {
     "data": {
      "text/plain": [
       "False"
      ]
     },
     "execution_count": 94,
     "metadata": {},
     "output_type": "execute_result"
    }
   ],
   "source": [
    "prueba == pru3"
   ]
  },
  {
   "cell_type": "code",
   "execution_count": 145,
   "metadata": {},
   "outputs": [
    {
     "name": "stdout",
     "output_type": "stream",
     "text": [
      "Pinza: []\n",
      "En mesa: ['a', 'b']\n",
      "Libres: ['b', 'c']\n",
      "Sobre: [['a', 'c']]\n",
      "\n"
     ]
    }
   ],
   "source": [
    "print(pru3)"
   ]
  },
  {
   "cell_type": "code",
   "execution_count": 147,
   "metadata": {},
   "outputs": [
    {
     "name": "stdout",
     "output_type": "stream",
     "text": [
      "Pinza: ['b']\n",
      "En mesa: ['a']\n",
      "Libres: ['c']\n",
      "Sobre: [['a', 'c']]\n",
      "\n"
     ]
    },
    {
     "data": {
      "text/plain": [
       "1"
      ]
     },
     "execution_count": 147,
     "metadata": {},
     "output_type": "execute_result"
    }
   ],
   "source": [
    "for k in sucesores(Nodo(pru3,None)):\n",
    "    print(k)\n",
    "    \n",
    "len(sucesores(Nodo(pru3,None)))"
   ]
  },
  {
   "cell_type": "code",
   "execution_count": 148,
   "metadata": {},
   "outputs": [
    {
     "data": {
      "text/plain": [
       "True"
      ]
     },
     "execution_count": 148,
     "metadata": {},
     "output_type": "execute_result"
    }
   ],
   "source": [
    "pru3.coger1('c')"
   ]
  },
  {
   "cell_type": "code",
   "execution_count": 149,
   "metadata": {},
   "outputs": [
    {
     "name": "stdout",
     "output_type": "stream",
     "text": [
      "Pinza: ['c']\n",
      "En mesa: ['a', 'b']\n",
      "Libres: ['b', 'a']\n",
      "Sobre: []\n",
      "\n"
     ]
    }
   ],
   "source": [
    "print(pru3)"
   ]
  },
  {
   "cell_type": "code",
   "execution_count": 103,
   "metadata": {},
   "outputs": [],
   "source": [
    "nodoInicial = Nodo(pru3,None)\n",
    "nodoFinal = Nodo(prueba,None)"
   ]
  },
  {
   "cell_type": "code",
   "execution_count": 136,
   "metadata": {},
   "outputs": [
    {
     "ename": "KeyboardInterrupt",
     "evalue": "",
     "output_type": "error",
     "traceback": [
      "\u001b[0;31m---------------------------------------------------------------------------\u001b[0m",
      "\u001b[0;31mKeyboardInterrupt\u001b[0m                         Traceback (most recent call last)",
      "\u001b[0;32m<ipython-input-136-bc5b9de1df7b>\u001b[0m in \u001b[0;36m<module>\u001b[0;34m()\u001b[0m\n\u001b[0;32m----> 1\u001b[0;31m \u001b[0mlista_algoritmo\u001b[0m \u001b[0;34m=\u001b[0m \u001b[0mprimero_profundidad\u001b[0m\u001b[0;34m(\u001b[0m\u001b[0;34m[\u001b[0m\u001b[0mnodoInicial\u001b[0m\u001b[0;34m]\u001b[0m\u001b[0;34m)\u001b[0m\u001b[0;34m\u001b[0m\u001b[0m\n\u001b[0m",
      "\u001b[0;32m<ipython-input-126-567764824569>\u001b[0m in \u001b[0;36mprimero_profundidad\u001b[0;34m(inicial)\u001b[0m\n\u001b[1;32m     11\u001b[0m \u001b[0;34m\u001b[0m\u001b[0m\n\u001b[1;32m     12\u001b[0m         \u001b[0msucc\u001b[0m\u001b[0;34m=\u001b[0m\u001b[0msucesores\u001b[0m\u001b[0;34m(\u001b[0m\u001b[0mactual\u001b[0m\u001b[0;34m)\u001b[0m\u001b[0;34m\u001b[0m\u001b[0m\n\u001b[0;32m---> 13\u001b[0;31m         \u001b[0minicial\u001b[0m \u001b[0;34m=\u001b[0m \u001b[0msucc\u001b[0m\u001b[0;34m+\u001b[0m\u001b[0minicial\u001b[0m\u001b[0;34m[\u001b[0m\u001b[0;36m1\u001b[0m\u001b[0;34m:\u001b[0m\u001b[0;34m]\u001b[0m\u001b[0;34m\u001b[0m\u001b[0m\n\u001b[0m\u001b[1;32m     14\u001b[0m \u001b[0;34m\u001b[0m\u001b[0m\n\u001b[1;32m     15\u001b[0m     \u001b[0;31m# succ = sucesores(nodos[0])\u001b[0m\u001b[0;34m\u001b[0m\u001b[0;34m\u001b[0m\u001b[0m\n",
      "\u001b[0;31mKeyboardInterrupt\u001b[0m: "
     ]
    }
   ],
   "source": [
    "lista_algoritmo = primero_profundidad([nodoInicial])"
   ]
  },
  {
   "cell_type": "code",
   "execution_count": null,
   "metadata": {},
   "outputs": [],
   "source": [
    "for i in lista_algoritmo:\n",
    "    print(i)"
   ]
  },
  {
   "cell_type": "code",
   "execution_count": null,
   "metadata": {},
   "outputs": [],
   "source": []
  }
 ],
 "metadata": {
  "kernelspec": {
   "display_name": "Python 3",
   "language": "python",
   "name": "python3"
  },
  "language_info": {
   "codemirror_mode": {
    "name": "ipython",
    "version": 3
   },
   "file_extension": ".py",
   "mimetype": "text/x-python",
   "name": "python",
   "nbconvert_exporter": "python",
   "pygments_lexer": "ipython3",
   "version": "3.6.3"
  }
 },
 "nbformat": 4,
 "nbformat_minor": 2
}
