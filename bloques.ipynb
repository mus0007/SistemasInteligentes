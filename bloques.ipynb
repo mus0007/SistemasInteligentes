{
 "cells": [
  {
   "cell_type": "code",
   "execution_count": 283,
   "metadata": {},
   "outputs": [],
   "source": [
    "class EstadoBloques:\n",
    "    def __init__(self, p=[], m=['a','b'], l=['b','c'], s=[['a','c']]):\n",
    "        \n",
    "        self.pinza = p\n",
    "        self.mesa = m\n",
    "        self.libre = l\n",
    "        self.sobre = s\n",
    "\n",
    "    def __str__(self):\n",
    "        r = 'Pinza: {}\\nEn mesa: {}\\nLibres: {}\\nSobre: {}\\n'.format(self.pinza,\n",
    "                [mesa for mesa in self.mesa],\n",
    "                [libre for libre in self.libre],\n",
    "                [sobre for sobre in self.sobre])\n",
    "        \n",
    "        return r\n",
    "    \n",
    "    def __eq__(self,other):\n",
    "        return self.__str__() == other.__str__()\n",
    "    \n",
    "    def __hash__(self):\n",
    "        return hash(self.__str__())\n",
    "    \n",
    "    def is_final(self):\n",
    "        return self.pinza == [] and self.mesa == ['c'] and ['c','b'] in self.sobre and ['b','a'] in self.sobre and self.libre == ['a']\n",
    "    \n",
    "    def coger1(self,x):\n",
    "        \n",
    "        r = False\n",
    "        \n",
    "        if self.pinza == [] and x in self.libre:\n",
    "            for s in self.sobre:\n",
    "                if s[1] == x:\n",
    "                    y,x = s\n",
    "                    del self.libre[self.libre.index(x)]\n",
    "                    del self.sobre[self.sobre.index(s)]\n",
    "                    self.pinza.append(x)\n",
    "                    self.libre.append(y)\n",
    "                    r=True\n",
    "                    \n",
    "        return r\n",
    "                    \n",
    "                    \n",
    "    def coger2(self,x):\n",
    "        r = False\n",
    "        if self.pinza == [] and x in self.libre and x in self.mesa:\n",
    "            del self.libre[self.libre.index(x)]\n",
    "            del self.mesa[self.mesa.index(x)]\n",
    "            self.pinza.append(x)\n",
    "            r = True\n",
    "        return r\n",
    "    \n",
    "    def desapilar(self,x):\n",
    "        r = False\n",
    "        if x in self.pinza:\n",
    "            del self.pinza[self.pinza.index(x)]\n",
    "            self.mesa.append(x)\n",
    "            self.libre.append(x)\n",
    "            r = True\n",
    "        return r\n",
    "    \n",
    "    def apilar(self,x,y):\n",
    "        r=False\n",
    "        if x in self.pinza and y in self.libre:\n",
    "            del self.pinza[self.pinza.index(x)]\n",
    "            del self.libre[self.libre.index(y)]\n",
    "            self.libre.append(x)\n",
    "            self.sobre.append([y,x])\n",
    "            r=True\n",
    "        return r\n"
   ]
  },
  {
   "cell_type": "code",
   "execution_count": 284,
   "metadata": {},
   "outputs": [],
   "source": [
    "cajas = ['a','b','c']\n",
    "\n",
    "def sucesores(estado):\n",
    "    # estadoViejo = EstadoBloques(estado.pinza, estado.mesa, estado.libre, estado.sobre)\n",
    "    estadoModificar = EstadoBloques(estado.pinza, estado.mesa, estado.libre, estado.sobre)\n",
    "    \n",
    "    pinzacopy = estado.pinza[:]\n",
    "    mesacopy = estado.mesa[:]\n",
    "    librecopy = estado.libre[:]\n",
    "    sobrecopy = estado.sobre[:]\n",
    "    \n",
    "    listaSucc = []\n",
    "    \n",
    "    if estadoModificar.pinza:\n",
    "        p = estadoModificar.pinza[0]\n",
    "        for x in estadoModificar.libre:\n",
    "            boo = estadoModificar.apilar(p,x)\n",
    "            if boo:\n",
    "                listaSucc.append(estadoModificar)\n",
    "                estadoModificar = EstadoBloques(pinzacopy, mesacopy, librecopy, sobrecopy)\n",
    "        estadoModificar.desapilar(p)\n",
    "        listaSucc.append(estadoModificar)\n",
    "        estadoModificar = EstadoBloques(pinzacopy, mesacopy, librecopy, sobrecopy)\n",
    "    else:\n",
    "        for x in estadoModificar.libre:\n",
    "            if x in estadoModificar.mesa:\n",
    "                estadoModificar.coger2(x)\n",
    "                listaSucc.append(estadoModificar)\n",
    "                estadoModificar = EstadoBloques(pinzacopy, mesacopy, librecopy, sobrecopy)\n",
    "            else:\n",
    "                estadoModificar.coger1(x)\n",
    "                listaSucc.append(estadoModificar)\n",
    "                estadoModificar = EstadoBloques(pinzacopy, mesacopy, librecopy, sobrecopy)\n",
    "                \n",
    "    return listaSucc\n",
    "    "
   ]
  },
  {
   "cell_type": "code",
   "execution_count": null,
   "metadata": {
    "collapsed": true
   },
   "outputs": [],
   "source": []
  },
  {
   "cell_type": "code",
   "execution_count": null,
   "metadata": {
    "collapsed": true
   },
   "outputs": [],
   "source": [
    "def primero_profundidad():\n",
    "    \n",
    "    "
   ]
  },
  {
   "cell_type": "code",
   "execution_count": 285,
   "metadata": {},
   "outputs": [
    {
     "name": "stdout",
     "output_type": "stream",
     "text": [
      "Pinza: []\n",
      "En mesa: ['a', 'b']\n",
      "Libres: ['b', 'c']\n",
      "Sobre: [['a', 'c']]\n",
      "\n"
     ]
    }
   ],
   "source": [
    "prueba = EstadoBloques()\n",
    "print(prueba)"
   ]
  },
  {
   "cell_type": "code",
   "execution_count": 286,
   "metadata": {},
   "outputs": [
    {
     "data": {
      "text/plain": [
       "False"
      ]
     },
     "execution_count": 286,
     "metadata": {},
     "output_type": "execute_result"
    }
   ],
   "source": [
    "prueba.apilar('a','b')"
   ]
  },
  {
   "cell_type": "code",
   "execution_count": 287,
   "metadata": {},
   "outputs": [
    {
     "data": {
      "text/plain": [
       "True"
      ]
     },
     "execution_count": 287,
     "metadata": {},
     "output_type": "execute_result"
    }
   ],
   "source": [
    "prueba.coger1('c')"
   ]
  },
  {
   "cell_type": "code",
   "execution_count": 288,
   "metadata": {},
   "outputs": [
    {
     "name": "stdout",
     "output_type": "stream",
     "text": [
      "[]\n"
     ]
    }
   ],
   "source": [
    "print(prueba.sobre)"
   ]
  },
  {
   "cell_type": "code",
   "execution_count": 289,
   "metadata": {},
   "outputs": [
    {
     "name": "stdout",
     "output_type": "stream",
     "text": [
      "Pinza: ['c']\n",
      "En mesa: ['a', 'b']\n",
      "Libres: ['b', 'a']\n",
      "Sobre: []\n",
      "\n"
     ]
    }
   ],
   "source": [
    "print(prueba)"
   ]
  },
  {
   "cell_type": "code",
   "execution_count": 290,
   "metadata": {},
   "outputs": [
    {
     "data": {
      "text/plain": [
       "True"
      ]
     },
     "execution_count": 290,
     "metadata": {},
     "output_type": "execute_result"
    }
   ],
   "source": [
    "prueba.desapilar('c')"
   ]
  },
  {
   "cell_type": "code",
   "execution_count": 291,
   "metadata": {},
   "outputs": [
    {
     "name": "stdout",
     "output_type": "stream",
     "text": [
      "Pinza: []\n",
      "En mesa: ['a', 'b', 'c']\n",
      "Libres: ['b', 'a', 'c']\n",
      "Sobre: []\n",
      "\n"
     ]
    }
   ],
   "source": [
    "print(prueba)"
   ]
  },
  {
   "cell_type": "code",
   "execution_count": 292,
   "metadata": {},
   "outputs": [
    {
     "data": {
      "text/plain": [
       "True"
      ]
     },
     "execution_count": 292,
     "metadata": {},
     "output_type": "execute_result"
    }
   ],
   "source": [
    "prueba.coger2('b')"
   ]
  },
  {
   "cell_type": "code",
   "execution_count": 293,
   "metadata": {},
   "outputs": [
    {
     "data": {
      "text/plain": [
       "True"
      ]
     },
     "execution_count": 293,
     "metadata": {},
     "output_type": "execute_result"
    }
   ],
   "source": [
    "prueba.apilar('b','c')"
   ]
  },
  {
   "cell_type": "code",
   "execution_count": 294,
   "metadata": {},
   "outputs": [
    {
     "name": "stdout",
     "output_type": "stream",
     "text": [
      "Pinza: []\n",
      "En mesa: ['a', 'c']\n",
      "Libres: ['a', 'b']\n",
      "Sobre: [['c', 'b']]\n",
      "\n"
     ]
    }
   ],
   "source": [
    "print(prueba)"
   ]
  },
  {
   "cell_type": "code",
   "execution_count": 295,
   "metadata": {},
   "outputs": [
    {
     "data": {
      "text/plain": [
       "False"
      ]
     },
     "execution_count": 295,
     "metadata": {},
     "output_type": "execute_result"
    }
   ],
   "source": [
    "prueba.is_final()"
   ]
  },
  {
   "cell_type": "code",
   "execution_count": 296,
   "metadata": {},
   "outputs": [
    {
     "data": {
      "text/plain": [
       "True"
      ]
     },
     "execution_count": 296,
     "metadata": {},
     "output_type": "execute_result"
    }
   ],
   "source": [
    "prueba.coger2('a')\n",
    "prueba.apilar('a','b')"
   ]
  },
  {
   "cell_type": "code",
   "execution_count": 297,
   "metadata": {},
   "outputs": [
    {
     "name": "stdout",
     "output_type": "stream",
     "text": [
      "Pinza: []\n",
      "En mesa: ['c']\n",
      "Libres: ['a']\n",
      "Sobre: [['c', 'b'], ['b', 'a']]\n",
      "\n"
     ]
    }
   ],
   "source": [
    "print(prueba)"
   ]
  },
  {
   "cell_type": "code",
   "execution_count": 298,
   "metadata": {},
   "outputs": [
    {
     "data": {
      "text/plain": [
       "True"
      ]
     },
     "execution_count": 298,
     "metadata": {},
     "output_type": "execute_result"
    }
   ],
   "source": [
    "prueba.is_final()"
   ]
  },
  {
   "cell_type": "code",
   "execution_count": 299,
   "metadata": {},
   "outputs": [],
   "source": [
    "pru2 = EstadoBloques()"
   ]
  },
  {
   "cell_type": "code",
   "execution_count": 300,
   "metadata": {},
   "outputs": [
    {
     "name": "stdout",
     "output_type": "stream",
     "text": [
      "Pinza: []\n",
      "En mesa: ['c']\n",
      "Libres: ['a']\n",
      "Sobre: [['c', 'b'], ['b', 'a']]\n",
      "\n"
     ]
    }
   ],
   "source": [
    "print(pru2)"
   ]
  },
  {
   "cell_type": "code",
   "execution_count": 301,
   "metadata": {},
   "outputs": [],
   "source": [
    "lista = sucesores(pru2)"
   ]
  },
  {
   "cell_type": "code",
   "execution_count": 302,
   "metadata": {},
   "outputs": [
    {
     "name": "stdout",
     "output_type": "stream",
     "text": [
      "Pinza: ['a']\n",
      "En mesa: ['c']\n",
      "Libres: ['b']\n",
      "Sobre: [['c', 'b']]\n",
      "\n"
     ]
    }
   ],
   "source": [
    "for j in lista:\n",
    "    print(j)"
   ]
  },
  {
   "cell_type": "code",
   "execution_count": 303,
   "metadata": {},
   "outputs": [
    {
     "data": {
      "text/plain": [
       "[<__main__.EstadoBloques at 0x2223dc22c18>,\n",
       " <__main__.EstadoBloques at 0x2223dc22b38>]"
      ]
     },
     "execution_count": 303,
     "metadata": {},
     "output_type": "execute_result"
    }
   ],
   "source": [
    "sucesores(pru2)"
   ]
  },
  {
   "cell_type": "code",
   "execution_count": null,
   "metadata": {
    "collapsed": true
   },
   "outputs": [],
   "source": []
  }
 ],
 "metadata": {
  "kernelspec": {
   "display_name": "Python 3",
   "language": "python",
   "name": "python3"
  },
  "language_info": {
   "codemirror_mode": {
    "name": "ipython",
    "version": 3
   },
   "file_extension": ".py",
   "mimetype": "text/x-python",
   "name": "python",
   "nbconvert_exporter": "python",
   "pygments_lexer": "ipython3",
   "version": "3.6.2"
  }
 },
 "nbformat": 4,
 "nbformat_minor": 2
}
