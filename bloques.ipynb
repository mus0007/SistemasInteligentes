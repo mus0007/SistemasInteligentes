{
 "cells": [
  {
   "cell_type": "code",
   "execution_count": 397,
   "metadata": {
    "collapsed": true
   },
   "outputs": [],
   "source": [
    "class EstadoBloques:\n",
    "    def __init__(self, p=[], m=['a','b'], l=['b','c'], s=[['a','c']]):\n",
    "        \n",
    "        self.pinza = p\n",
    "        self.mesa = m\n",
    "        self.libre = l\n",
    "        self.sobre = s\n",
    "\n",
    "    def __str__(self):\n",
    "        r = 'Pinza: {}\\nEn mesa: {}\\nLibres: {}\\nSobre: {}\\n'.format(self.pinza,\n",
    "                [mesa for mesa in self.mesa],\n",
    "                [libre for libre in self.libre],\n",
    "                [sobre for sobre in self.sobre])\n",
    "        \n",
    "        return r\n",
    "    \n",
    "    def __eq__(self,other):\n",
    "        return self.__str__() == other.__str__()\n",
    "    \n",
    "    def __hash__(self):\n",
    "        return hash(self.__str__())\n",
    "    \n",
    "    def coger1(self,x):\n",
    "        \n",
    "        r = False\n",
    "        \n",
    "        if self.pinza == [] and x in self.libre and x not in self.mesa:\n",
    "            for s in self.sobre:\n",
    "                if s[1] == x:\n",
    "                    y,x = s\n",
    "                    del self.libre[self.libre.index(x)]\n",
    "                    del self.sobre[self.sobre.index(s)]\n",
    "                    self.pinza.append(x)\n",
    "                    self.libre.append(y)\n",
    "                    r=True\n",
    "                    \n",
    "        return r\n",
    "                    \n",
    "                    \n",
    "    def coger2(self,x):\n",
    "        r = False\n",
    "        if self.pinza == [] and x in self.libre and x in self.mesa:\n",
    "            del self.libre[self.libre.index(x)]\n",
    "            del self.mesa[self.mesa.index(x)]\n",
    "            self.pinza.append(x)\n",
    "            r = True\n",
    "        return r\n",
    "    \n",
    "    def desapilar(self,x):\n",
    "        r = False\n",
    "        if x in self.pinza:\n",
    "            del self.pinza[self.pinza.index(x)]\n",
    "            self.mesa.append(x)\n",
    "            self.libre.append(x)\n",
    "            r = True\n",
    "        return r\n",
    "    \n",
    "    def apilar(self,x,y):\n",
    "        r=False\n",
    "        if x in self.pinza and y in self.libre:\n",
    "            del self.pinza[self.pinza.index(x)]\n",
    "            del self.libre[self.libre.index(y)]\n",
    "            self.libre.append(x)\n",
    "            self.sobre.append([y,x])\n",
    "            r=True\n",
    "        return r\n",
    "    "
   ]
  },
  {
   "cell_type": "code",
   "execution_count": 400,
   "metadata": {
    "collapsed": true
   },
   "outputs": [],
   "source": [
    "def is_final(n):\n",
    "    e = n.getEstado()\n",
    "    return e.pinza == [] and e.mesa == ['c'] and ['c','b'] in e.sobre and ['b','a'] in e.sobre and e.libre == ['a']"
   ]
  },
  {
   "cell_type": "code",
   "execution_count": 408,
   "metadata": {
    "collapsed": true
   },
   "outputs": [],
   "source": [
    "class Nodo:\n",
    "    \n",
    "    def __init__(self,estado,padre,g,f):\n",
    "        self.estado = estado\n",
    "        self.padre = padre\n",
    "        self.g = g\n",
    "        self.f = f\n",
    "        \n",
    "    # el estado es un estado\n",
    "    def getEstado(self):\n",
    "        return self.estado\n",
    "    \n",
    "    # el padre es un nodo\n",
    "    def getPadre(self):\n",
    "        return self.padre\n",
    "    \n",
    "    def getG(self):\n",
    "        return self.g\n",
    "    def getF(self):\n",
    "        return self.f\n",
    "    \n",
    "    def camino(self):\n",
    "        camino = []\n",
    "        p = self\n",
    "        \n",
    "        while p:\n",
    "            camino.append(p.getEstado())\n",
    "            p = p.getPadre()\n",
    "            \n",
    "        return list(reversed(camino))\n",
    "    \n",
    "    def __lt__(self, other):\n",
    "        return self.f<other.f\n",
    "    \n",
    "    def __eq__(self, other):\n",
    "        return self.getEstado()==other.getEstado()\n",
    "    \n",
    "    def __str__(self):\n",
    "        return self.estado.__str__()# + 'Padre: ' + self.getPadre().estado.__str__()\n",
    "        "
   ]
  },
  {
   "cell_type": "code",
   "execution_count": 393,
   "metadata": {
    "collapsed": true
   },
   "outputs": [],
   "source": [
    "import queue as queue\n",
    "\n",
    "class Abiertos():\n",
    "    def __init__(self):\n",
    "        self.colaPrioridad = queue.PriorityQueue()\n",
    "    \n",
    "    def put(self,nodo):\n",
    "        self.colaPrioridad.put((nodo.getF(),nodo))\n",
    "    \n",
    "    def pop(self):\n",
    "        return self.colaPrioridad.get()\n",
    "    \n",
    "    def empty(self):\n",
    "        return self.colaPrioridad.empty();\n",
    "    \n",
    "    def getNodo(self,estado):\n",
    "        for elem in self.colaPrioridad.queue:\n",
    "            if elem[1].getEstado()==estado:\n",
    "                return elem[1]\n",
    "        return None           \n",
    "    \n",
    "    \n",
    "    def update(self,nodoViejo,nodoNuevo):\n",
    "        self.colaPrioridad.queue.remove((nodoViejo.getF(),nodoViejo))\n",
    "        self.colaPrioridad.put((nodoNuevo.getF(),nodoNuevo))\n",
    "        \n",
    "    def getNodes(self):\n",
    "        return list(map(lambda x:x[1],self.colaPrioridad.queue))\n",
    "    \n",
    "    def __str__(self):\n",
    "        return str(self.colaPrioridad.queue)\n",
    "        "
   ]
  },
  {
   "cell_type": "code",
   "execution_count": 404,
   "metadata": {},
   "outputs": [],
   "source": [
    "from copy import deepcopy\n",
    "cajas = ['a','b','c']\n",
    "\n",
    "def sucesores(nodo,heuristica):\n",
    "    # estadoViejo = EstadoBloques(estado.pinza, estado.mesa, estado.libre, estado.sobre) \n",
    "    \n",
    "    estado = nodo.getEstado()\n",
    "    g = nodo.getG()\n",
    "    estadoModificar = deepcopy(estado)\n",
    "    \n",
    "    listaSucc = []\n",
    "    \n",
    "    if estado.pinza:\n",
    "        p = estado.pinza[0]\n",
    "        for x in estado.libre:\n",
    "            boo = estadoModificar.apilar(p,x)\n",
    "            if boo:\n",
    "                listaSucc.append(Nodo(estadoModificar,nodo,g+1,heuristica()+g))\n",
    "                estadoModificar = deepcopy(estado)\n",
    "        estadoModificar.desapilar(p)\n",
    "        listaSucc.append(Nodo(estadoModificar,nodo,g+1,heuristica()+g))\n",
    "        estadoModificar = deepcopy(estado)\n",
    "    else:\n",
    "        for x in estado.libre:\n",
    "            if x in estado.mesa:\n",
    "                estadoModificar.coger2(x)\n",
    "                listaSucc.append(Nodo(estadoModificar,nodo,g+1,heuristica()+g))\n",
    "                estadoModificar = deepcopy(estado)\n",
    "            else:\n",
    "                estadoModificar.coger1(x)\n",
    "                listaSucc.append(Nodo(estadoModificar,nodo,g+1,heuristica()+g))\n",
    "                estadoModificar = deepcopy(estado)\n",
    "                \n",
    "    return listaSucc\n",
    "    "
   ]
  },
  {
   "cell_type": "code",
   "execution_count": 388,
   "metadata": {
    "collapsed": true
   },
   "outputs": [],
   "source": [
    "def dfs(nodoInicial):\n",
    "    visitados, pila = set(), [Inicial]\n",
    "    while pila:\n",
    "        actual = pila.pop()\n",
    "        \n",
    "        if actual.getEstado()\n",
    "        \n",
    "        if actual.getEstado().is_final():\n",
    "            return actual\n",
    "        if actual not in visitados:\n",
    "            visitados.add(actual)\n",
    "            suc = sucesores(actual,visitados)\n",
    "            pila.extend(suc)"
   ]
  },
  {
   "cell_type": "code",
   "execution_count": 395,
   "metadata": {
    "collapsed": true
   },
   "outputs": [],
   "source": [
    "# Cargar Celda\n",
    "\n",
    "def AStar(inicial, sucesoresF, metaF, heuristicoF):\n",
    "        \n",
    "    abiertos = Abiertos()\n",
    "    cerrados = {}\n",
    "    abiertos.put(inicial)\n",
    "    \n",
    "    while not abiertos.empty():\n",
    "        f,nodo = abiertos.pop()\n",
    "        cerrados[nodo.getEstado()]=nodo\n",
    "        if metaF(nodo):\n",
    "            return nodo.camino()\n",
    "        sucesores=sucesoresF(nodo,heuristicoF)\n",
    "        for suc in sucesores:\n",
    "            if abiertos.getNodo(suc.getEstado()) is None and not suc.getEstado() in cerrados:\n",
    "                abiertos.put(suc)\n",
    "            if not abiertos.getNodo(suc.getEstado()) is None:\n",
    "                nodoViejo=abiertos.getNodo(suc.getEstado())\n",
    "                if suc.getF()<abiertos.getNodo(suc.getEstado()).getF():\n",
    "                    abiertos.update(nodoViejo,suc)\n",
    "            if suc.getEstado() in cerrados:\n",
    "                if suc.getF()<cerrados[suc.getEstado()].getF():\n",
    "                    del cerrados[suc.getEstado()]\n",
    "                    abiertos.put(suc)  \n",
    "    return []\n"
   ]
  },
  {
   "cell_type": "code",
   "execution_count": 396,
   "metadata": {
    "collapsed": true
   },
   "outputs": [],
   "source": [
    "def heuristicaCajas():\n",
    "    return 1"
   ]
  },
  {
   "cell_type": "code",
   "execution_count": 217,
   "metadata": {},
   "outputs": [
    {
     "name": "stdout",
     "output_type": "stream",
     "text": [
      "Pinza: []\n",
      "En mesa: ['c']\n",
      "Libres: ['a']\n",
      "Sobre: [['c', 'b'], ['b', 'a']]\n",
      "\n"
     ]
    }
   ],
   "source": [
    "prueba = EstadoBloques()\n",
    "print(prueba)"
   ]
  },
  {
   "cell_type": "code",
   "execution_count": 218,
   "metadata": {},
   "outputs": [
    {
     "data": {
      "text/plain": [
       "False"
      ]
     },
     "execution_count": 218,
     "metadata": {},
     "output_type": "execute_result"
    }
   ],
   "source": [
    "prueba.apilar('a','b')"
   ]
  },
  {
   "cell_type": "code",
   "execution_count": 219,
   "metadata": {},
   "outputs": [
    {
     "data": {
      "text/plain": [
       "False"
      ]
     },
     "execution_count": 219,
     "metadata": {},
     "output_type": "execute_result"
    }
   ],
   "source": [
    "prueba.coger1('c')"
   ]
  },
  {
   "cell_type": "code",
   "execution_count": 220,
   "metadata": {},
   "outputs": [
    {
     "name": "stdout",
     "output_type": "stream",
     "text": [
      "[['c', 'b'], ['b', 'a']]\n"
     ]
    }
   ],
   "source": [
    "print(prueba.sobre)"
   ]
  },
  {
   "cell_type": "code",
   "execution_count": 221,
   "metadata": {},
   "outputs": [
    {
     "name": "stdout",
     "output_type": "stream",
     "text": [
      "Pinza: []\n",
      "En mesa: ['c']\n",
      "Libres: ['a']\n",
      "Sobre: [['c', 'b'], ['b', 'a']]\n",
      "\n"
     ]
    }
   ],
   "source": [
    "print(prueba)"
   ]
  },
  {
   "cell_type": "code",
   "execution_count": 222,
   "metadata": {},
   "outputs": [
    {
     "data": {
      "text/plain": [
       "False"
      ]
     },
     "execution_count": 222,
     "metadata": {},
     "output_type": "execute_result"
    }
   ],
   "source": [
    "prueba.desapilar('c')"
   ]
  },
  {
   "cell_type": "code",
   "execution_count": 223,
   "metadata": {},
   "outputs": [
    {
     "name": "stdout",
     "output_type": "stream",
     "text": [
      "Pinza: []\n",
      "En mesa: ['c']\n",
      "Libres: ['a']\n",
      "Sobre: [['c', 'b'], ['b', 'a']]\n",
      "\n"
     ]
    }
   ],
   "source": [
    "print(prueba)"
   ]
  },
  {
   "cell_type": "code",
   "execution_count": 224,
   "metadata": {},
   "outputs": [
    {
     "data": {
      "text/plain": [
       "False"
      ]
     },
     "execution_count": 224,
     "metadata": {},
     "output_type": "execute_result"
    }
   ],
   "source": [
    "prueba.coger2('b')"
   ]
  },
  {
   "cell_type": "code",
   "execution_count": 225,
   "metadata": {},
   "outputs": [
    {
     "data": {
      "text/plain": [
       "False"
      ]
     },
     "execution_count": 225,
     "metadata": {},
     "output_type": "execute_result"
    }
   ],
   "source": [
    "prueba.apilar('b','c')"
   ]
  },
  {
   "cell_type": "code",
   "execution_count": 226,
   "metadata": {},
   "outputs": [
    {
     "name": "stdout",
     "output_type": "stream",
     "text": [
      "Pinza: []\n",
      "En mesa: ['c']\n",
      "Libres: ['a']\n",
      "Sobre: [['c', 'b'], ['b', 'a']]\n",
      "\n"
     ]
    }
   ],
   "source": [
    "print(prueba)"
   ]
  },
  {
   "cell_type": "code",
   "execution_count": 227,
   "metadata": {},
   "outputs": [
    {
     "data": {
      "text/plain": [
       "True"
      ]
     },
     "execution_count": 227,
     "metadata": {},
     "output_type": "execute_result"
    }
   ],
   "source": [
    "prueba.is_final()"
   ]
  },
  {
   "cell_type": "code",
   "execution_count": 228,
   "metadata": {},
   "outputs": [
    {
     "data": {
      "text/plain": [
       "False"
      ]
     },
     "execution_count": 228,
     "metadata": {},
     "output_type": "execute_result"
    }
   ],
   "source": [
    "prueba.coger2('a')\n",
    "prueba.apilar('a','b')"
   ]
  },
  {
   "cell_type": "code",
   "execution_count": 229,
   "metadata": {},
   "outputs": [
    {
     "name": "stdout",
     "output_type": "stream",
     "text": [
      "Pinza: []\n",
      "En mesa: ['c']\n",
      "Libres: ['a']\n",
      "Sobre: [['c', 'b'], ['b', 'a']]\n",
      "\n"
     ]
    }
   ],
   "source": [
    "print(prueba)"
   ]
  },
  {
   "cell_type": "code",
   "execution_count": 230,
   "metadata": {},
   "outputs": [
    {
     "data": {
      "text/plain": [
       "True"
      ]
     },
     "execution_count": 230,
     "metadata": {},
     "output_type": "execute_result"
    }
   ],
   "source": [
    "prueba.is_final()"
   ]
  },
  {
   "cell_type": "code",
   "execution_count": 231,
   "metadata": {
    "collapsed": true
   },
   "outputs": [],
   "source": [
    "pru2 = EstadoBloques()"
   ]
  },
  {
   "cell_type": "code",
   "execution_count": 232,
   "metadata": {},
   "outputs": [
    {
     "name": "stdout",
     "output_type": "stream",
     "text": [
      "Pinza: []\n",
      "En mesa: ['c']\n",
      "Libres: ['a']\n",
      "Sobre: [['c', 'b'], ['b', 'a']]\n",
      "\n"
     ]
    }
   ],
   "source": [
    "print(pru2)"
   ]
  },
  {
   "cell_type": "code",
   "execution_count": 233,
   "metadata": {},
   "outputs": [],
   "source": [
    "nodo = Nodo(pru2,None)\n",
    "\n",
    "lista = sucesores(nodo)"
   ]
  },
  {
   "cell_type": "code",
   "execution_count": 234,
   "metadata": {},
   "outputs": [
    {
     "name": "stdout",
     "output_type": "stream",
     "text": [
      "Pinza: ['a']\n",
      "En mesa: ['c']\n",
      "Libres: ['b']\n",
      "Sobre: [['c', 'b']]\n",
      "\n"
     ]
    }
   ],
   "source": [
    "for j in lista:\n",
    "    print(j)"
   ]
  },
  {
   "cell_type": "code",
   "execution_count": 235,
   "metadata": {},
   "outputs": [
    {
     "data": {
      "text/plain": [
       "[<__main__.Nodo at 0x246ba8f2f28>]"
      ]
     },
     "execution_count": 235,
     "metadata": {},
     "output_type": "execute_result"
    }
   ],
   "source": [
    "sucesores(nodo)"
   ]
  },
  {
   "cell_type": "code",
   "execution_count": 236,
   "metadata": {},
   "outputs": [
    {
     "data": {
      "text/plain": [
       "False"
      ]
     },
     "execution_count": 236,
     "metadata": {},
     "output_type": "execute_result"
    }
   ],
   "source": [
    "prueba is pru2"
   ]
  },
  {
   "cell_type": "code",
   "execution_count": 237,
   "metadata": {},
   "outputs": [
    {
     "data": {
      "text/plain": [
       "True"
      ]
     },
     "execution_count": 237,
     "metadata": {},
     "output_type": "execute_result"
    }
   ],
   "source": [
    "prueba == pru2"
   ]
  },
  {
   "cell_type": "code",
   "execution_count": 338,
   "metadata": {},
   "outputs": [],
   "source": [
    "pru3 = EstadoBloques([], ['a','b'], ['b','c'], [['a','c']])"
   ]
  },
  {
   "cell_type": "code",
   "execution_count": 339,
   "metadata": {},
   "outputs": [
    {
     "data": {
      "text/plain": [
       "False"
      ]
     },
     "execution_count": 339,
     "metadata": {},
     "output_type": "execute_result"
    }
   ],
   "source": [
    "prueba == pru3"
   ]
  },
  {
   "cell_type": "code",
   "execution_count": 340,
   "metadata": {},
   "outputs": [
    {
     "name": "stdout",
     "output_type": "stream",
     "text": [
      "Pinza: []\n",
      "En mesa: ['a', 'b']\n",
      "Libres: ['b', 'c']\n",
      "Sobre: [['a', 'c']]\n",
      "\n"
     ]
    }
   ],
   "source": [
    "print(pru3)"
   ]
  },
  {
   "cell_type": "code",
   "execution_count": 341,
   "metadata": {},
   "outputs": [
    {
     "name": "stdout",
     "output_type": "stream",
     "text": [
      "Pinza: ['b']\n",
      "En mesa: ['a']\n",
      "Libres: ['c']\n",
      "Sobre: [['a', 'c']]\n",
      "\n",
      "Pinza: ['c']\n",
      "En mesa: ['a', 'b']\n",
      "Libres: ['b', 'a']\n",
      "Sobre: []\n",
      "\n"
     ]
    },
    {
     "data": {
      "text/plain": [
       "2"
      ]
     },
     "execution_count": 341,
     "metadata": {},
     "output_type": "execute_result"
    }
   ],
   "source": [
    "s = sucesores(Nodo(pru3,None))\n",
    "\n",
    "for k in s:\n",
    "    print(k)\n",
    "    \n",
    "len(s)"
   ]
  },
  {
   "cell_type": "code",
   "execution_count": 325,
   "metadata": {},
   "outputs": [
    {
     "data": {
      "text/plain": [
       "True"
      ]
     },
     "execution_count": 325,
     "metadata": {},
     "output_type": "execute_result"
    }
   ],
   "source": [
    "pru3.coger1('c')"
   ]
  },
  {
   "cell_type": "code",
   "execution_count": 326,
   "metadata": {},
   "outputs": [
    {
     "name": "stdout",
     "output_type": "stream",
     "text": [
      "Pinza: ['c']\n",
      "En mesa: ['a', 'b']\n",
      "Libres: ['b', 'a']\n",
      "Sobre: []\n",
      "\n"
     ]
    }
   ],
   "source": [
    "print(pru3)"
   ]
  },
  {
   "cell_type": "code",
   "execution_count": 327,
   "metadata": {
    "collapsed": true
   },
   "outputs": [],
   "source": [
    "nodoInicial = Nodo(pru3,None)\n",
    "nodoFinal = Nodo(prueba,None)"
   ]
  },
  {
   "cell_type": "code",
   "execution_count": 328,
   "metadata": {},
   "outputs": [],
   "source": [
    "pru4 = EstadoBloques(['b'],['a'],['c'],[['a', 'c']])\n",
    "\n"
   ]
  },
  {
   "cell_type": "code",
   "execution_count": 331,
   "metadata": {},
   "outputs": [
    {
     "name": "stdout",
     "output_type": "stream",
     "text": [
      "Pinza: []\n",
      "En mesa: ['a']\n",
      "Libres: ['b']\n",
      "Sobre: [['a', 'c'], ['c', 'b']]\n",
      "\n",
      "Pinza: []\n",
      "En mesa: ['a', 'b']\n",
      "Libres: ['c', 'b']\n",
      "Sobre: [['a', 'c']]\n",
      "\n"
     ]
    },
    {
     "data": {
      "text/plain": [
       "2"
      ]
     },
     "execution_count": 331,
     "metadata": {},
     "output_type": "execute_result"
    }
   ],
   "source": [
    "s = sucesores(Nodo(pru4,None))\n",
    "\n",
    "for k in s:\n",
    "    print(k)\n",
    "    \n",
    "len(s)"
   ]
  },
  {
   "cell_type": "code",
   "execution_count": 336,
   "metadata": {
    "collapsed": true
   },
   "outputs": [],
   "source": [
    "pru5 = EstadoBloques(['c'],['a', 'b'],['b', 'a'],[])\n"
   ]
  },
  {
   "cell_type": "code",
   "execution_count": 337,
   "metadata": {},
   "outputs": [
    {
     "name": "stdout",
     "output_type": "stream",
     "text": [
      "Pinza: []\n",
      "En mesa: ['a', 'b']\n",
      "Libres: ['a', 'c']\n",
      "Sobre: [['b', 'c']]\n",
      "\n",
      "Pinza: []\n",
      "En mesa: ['a', 'b']\n",
      "Libres: ['b', 'c']\n",
      "Sobre: [['a', 'c']]\n",
      "\n",
      "Pinza: []\n",
      "En mesa: ['a', 'b', 'c']\n",
      "Libres: ['b', 'a', 'c']\n",
      "Sobre: []\n",
      "\n"
     ]
    },
    {
     "data": {
      "text/plain": [
       "3"
      ]
     },
     "execution_count": 337,
     "metadata": {},
     "output_type": "execute_result"
    }
   ],
   "source": [
    "s = sucesores(Nodo(pru5,None))\n",
    "\n",
    "for k in s:\n",
    "    print(k)\n",
    "    \n",
    "len(s)"
   ]
  },
  {
   "cell_type": "code",
   "execution_count": 409,
   "metadata": {},
   "outputs": [],
   "source": [
    "pruebaP = EstadoBloques([], ['a','b'], ['b','c'], [['a','c']])\n",
    "c = Nodo(pruebaP,None,0,0)\n",
    "i = AStar(c,sucesores,is_final,heuristicaCajas)"
   ]
  },
  {
   "cell_type": "code",
   "execution_count": 410,
   "metadata": {},
   "outputs": [
    {
     "name": "stdout",
     "output_type": "stream",
     "text": [
      "Pinza: []\n",
      "En mesa: ['a', 'b']\n",
      "Libres: ['b', 'c']\n",
      "Sobre: [['a', 'c']]\n",
      "\n",
      "Pinza: ['c']\n",
      "En mesa: ['a', 'b']\n",
      "Libres: ['b', 'a']\n",
      "Sobre: []\n",
      "\n",
      "Pinza: []\n",
      "En mesa: ['a', 'b', 'c']\n",
      "Libres: ['b', 'a', 'c']\n",
      "Sobre: []\n",
      "\n",
      "Pinza: ['b']\n",
      "En mesa: ['a', 'c']\n",
      "Libres: ['a', 'c']\n",
      "Sobre: []\n",
      "\n",
      "Pinza: []\n",
      "En mesa: ['a', 'c']\n",
      "Libres: ['a', 'b']\n",
      "Sobre: [['c', 'b']]\n",
      "\n",
      "Pinza: ['a']\n",
      "En mesa: ['c']\n",
      "Libres: ['b']\n",
      "Sobre: [['c', 'b']]\n",
      "\n",
      "Pinza: []\n",
      "En mesa: ['c']\n",
      "Libres: ['a']\n",
      "Sobre: [['c', 'b'], ['b', 'a']]\n",
      "\n"
     ]
    }
   ],
   "source": [
    "for c in i:\n",
    "    print(c)"
   ]
  },
  {
   "cell_type": "code",
   "execution_count": null,
   "metadata": {
    "collapsed": true
   },
   "outputs": [],
   "source": []
  }
 ],
 "metadata": {
  "kernelspec": {
   "display_name": "Python 3",
   "language": "python",
   "name": "python3"
  },
  "language_info": {
   "codemirror_mode": {
    "name": "ipython",
    "version": 3
   },
   "file_extension": ".py",
   "mimetype": "text/x-python",
   "name": "python",
   "nbconvert_exporter": "python",
   "pygments_lexer": "ipython3",
   "version": "3.6.1"
  }
 },
 "nbformat": 4,
 "nbformat_minor": 2
}
